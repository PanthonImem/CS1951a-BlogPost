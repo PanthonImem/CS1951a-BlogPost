{
 "cells": [
  {
   "cell_type": "code",
   "execution_count": 37,
   "metadata": {},
   "outputs": [],
   "source": [
    "import threading\n",
    "import functools\n",
    "import string\n",
    "import queue\n",
    "import time\n",
    "import json\n",
    "\n",
    "import requests\n",
    "import bs4\n",
    "\n",
    "\n",
    "def threadify(func):\n",
    "    \"function runs in a new thread.\"\n",
    "\n",
    "    @functools.wraps(func)\n",
    "    def run(*args, **kwds):\n",
    "        new_thread = threading.Thread(\n",
    "            target = func,\n",
    "            args   = args,\n",
    "            kwargs = kwds)\n",
    "        new_thread.start()\n",
    "        return new_thread\n",
    "\n",
    "    return run\n"
   ]
  },
  {
   "cell_type": "code",
   "execution_count": 38,
   "metadata": {},
   "outputs": [],
   "source": [
    "def get_names(url):\n",
    "    resp = requests.get(url)\n",
    "    if resp.status_code != 200:\n",
    "        print(\"Error:\", resp.text)\n",
    "        return [], [url] # try again!\n",
    "    soup = bs4.BeautifulSoup(resp.text, 'html.parser')\n",
    "    page = soup.find_all(class_=\"mw-category-group\")\n",
    "    next_url = soup.find(\"a\", text=\"next page\")\n",
    "    data = [(i.text, i[\"href\"]) for e in page for i in e.find_all(\"a\")]\n",
    "    leaf = []\n",
    "    node = [next_url['href']] if next_url else []\n",
    "    for name, link in data:\n",
    "        if \"category:\" in link.lower() and \"_stubs\" not in link:\n",
    "            node.append(link)\n",
    "        elif \"category:\" not in link.lower():\n",
    "            leaf.append((name, link))\n",
    "    return leaf, node\n",
    "\n",
    "\n",
    "def get_visit_count(links, results=None):\n",
    "\n",
    "    def get_view_counts(link):\n",
    "        name = link.replace(\"/wiki/\", \"\")\n",
    "        end  = \"https://wikimedia.org/api/rest_v1/metrics/pageviews/per-article/\"\n",
    "        url  = f\"en.wikipedia.org/all-access/all-agents/{name}/monthly/20180101/20181231\"\n",
    "        view = json.loads(requests.get(end+url).text)\n",
    "        if \"items\" in view:\n",
    "            return sum(i[\"views\"] for i in view[\"items\"])\n",
    "        else:\n",
    "            return None\n",
    "\n",
    "    @threadify\n",
    "    def loader(q, results):\n",
    "        link = q.get()\n",
    "        error_count = 0\n",
    "        while q:\n",
    "            if link in results:\n",
    "                link = q.get()\n",
    "                error_count = 0\n",
    "                continue\n",
    "            try:\n",
    "                results[link] = get_view_counts(link)\n",
    "            except BaseException as e:\n",
    "                print(\"Error: retrying\", link, e)\n",
    "                time.sleep(2)\n",
    "                error_count += 1\n",
    "            else:\n",
    "                link = q.get()\n",
    "                error_count = 0\n",
    "            if error_count > 30:\n",
    "                link = q.get()\n",
    "                error_count = 0\n",
    "\n",
    "\n",
    "    def main(links, results=None):\n",
    "        if results is None:\n",
    "            results = {}\n",
    "        q = queue.Queue()\n",
    "        for i in sorted(links):\n",
    "        \tq.put(i)\n",
    "        threads = []\n",
    "        for _ in range(10):\n",
    "            t = loader(q, results)\n",
    "            threads.append(t)\n",
    "        return results, threads\n",
    "            \n",
    "    return main(links, results)\n"
   ]
  },
  {
   "cell_type": "code",
   "execution_count": 39,
   "metadata": {
    "scrolled": true
   },
   "outputs": [],
   "source": [
    "def load_links():\n",
    "    endpoint = \"https://en.wikipedia.org\"\n",
    "    start = \"/wiki/Category:Births_by_century\"\n",
    "    queue = [start]\n",
    "    data  = []\n",
    "    seen  = set()\n",
    "    counter = 0\n",
    "    while queue:\n",
    "        link = queue.pop()\n",
    "        if link in seen:\n",
    "            continue\n",
    "        queue.append(link)\n",
    "        leaf, node = get_names(endpoint+link)\n",
    "        if len(leaf) >= 1 or len(node) > 1:\n",
    "            seen.add(link)\n",
    "        queue.pop()\n",
    "        queue.extend(node)\n",
    "        data.extend(leaf)\n",
    "        counter += 1\n",
    "\n",
    "        print(\"\\r\", counter, len(data), link, end=\" \"*150)\n",
    "    return data"
   ]
  },
  {
   "cell_type": "code",
   "execution_count": 41,
   "metadata": {},
   "outputs": [
    {
     "name": "stdout",
     "output_type": "stream",
     "text": [
      " 8905 1405759 /wiki/Category:0s_BC_births                                                                                                                                                                                                                                                                                                                                                                                                                     "
     ]
    }
   ],
   "source": [
    "data = load_links()"
   ]
  },
  {
   "cell_type": "code",
   "execution_count": 43,
   "metadata": {},
   "outputs": [],
   "source": [
    "with open(\"names.json\", \"w\") as f:\n",
    "    json.dump(data, f)"
   ]
  },
  {
   "cell_type": "code",
   "execution_count": 44,
   "metadata": {},
   "outputs": [],
   "source": [
    "links = [link for _, link in data]"
   ]
  },
  {
   "cell_type": "code",
   "execution_count": 45,
   "metadata": {},
   "outputs": [],
   "source": [
    "result, threads = get_visit_count(links)"
   ]
  },
  {
   "cell_type": "code",
   "execution_count": null,
   "metadata": {},
   "outputs": [
    {
     "name": "stdout",
     "output_type": "stream",
     "text": [
      " 3432Error: retrying /wiki/%C3%89tienne_de_Veniard,_Sieur_de_Bourgmont HTTPSConnectionPool(host='wikimedia.org', port=443): Max retries exceeded with url: /api/rest_v1/metrics/pageviews/per-article/en.wikipedia.org/all-access/all-agents/%C3%89tienne_de_Veniard,_Sieur_de_Bourgmont/monthly/20180101/20181231 (Caused by NewConnectionError('<urllib3.connection.VerifiedHTTPSConnection object at 0x11c095128>: Failed to establish a new connection: [Errno 8] nodename nor servname provided, or not known'))\n",
      " 5535Error: retrying /wiki/%C5%8Cta_Masahiro HTTPSConnectionPool(host='wikimedia.org', port=443): Max retries exceeded with url: /api/rest_v1/metrics/pageviews/per-article/en.wikipedia.org/all-access/all-agents/%C5%8Cta_Masahiro/monthly/20180101/20181231 (Caused by NewConnectionError('<urllib3.connection.VerifiedHTTPSConnection object at 0x111fa84a8>: Failed to establish a new connection: [Errno 8] nodename nor servname provided, or not known'))\n",
      " 6663Error: retrying /wiki/A._Arthur_Guilbert HTTPSConnectionPool(host='wikimedia.org', port=443): Max retries exceeded with url: /api/rest_v1/metrics/pageviews/per-article/en.wikipedia.org/all-access/all-agents/A._Arthur_Guilbert/monthly/20180101/20181231 (Caused by NewConnectionError('<urllib3.connection.VerifiedHTTPSConnection object at 0x118305dd8>: Failed to establish a new connection: [Errno 8] nodename nor servname provided, or not known'))\n",
      " 7704689471567236"
     ]
    }
   ],
   "source": [
    "\n",
    "for i in range(500):\n",
    "    time.sleep(0.5)\n",
    "    print(\"\\r\", len(result), end=\"\")"
   ]
  },
  {
   "cell_type": "code",
   "execution_count": null,
   "metadata": {},
   "outputs": [],
   "source": []
  }
 ],
 "metadata": {
  "kernelspec": {
   "display_name": "Python 3",
   "language": "python",
   "name": "python3"
  },
  "language_info": {
   "codemirror_mode": {
    "name": "ipython",
    "version": 3
   },
   "file_extension": ".py",
   "mimetype": "text/x-python",
   "name": "python",
   "nbconvert_exporter": "python",
   "pygments_lexer": "ipython3",
   "version": "3.7.3"
  }
 },
 "nbformat": 4,
 "nbformat_minor": 2
}
