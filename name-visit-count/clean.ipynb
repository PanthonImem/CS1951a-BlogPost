{
 "cells": [
  {
   "cell_type": "code",
   "execution_count": 52,
   "metadata": {},
   "outputs": [],
   "source": [
    "\n",
    "import collections\n",
    "import json\n",
    "import re\n",
    "\n",
    "import spacy"
   ]
  },
  {
   "cell_type": "code",
   "execution_count": 53,
   "metadata": {},
   "outputs": [],
   "source": [
    "nlp = spacy.load(\"en_core_web_lg\")\n",
    "MINLEN = 100"
   ]
  },
  {
   "cell_type": "code",
   "execution_count": 54,
   "metadata": {},
   "outputs": [],
   "source": [
    "with open(\"headers-100000.json\") as f:\n",
    "    page = json.load(f)"
   ]
  },
  {
   "cell_type": "code",
   "execution_count": 55,
   "metadata": {},
   "outputs": [],
   "source": [
    "def getlead(text, patt=re.compile(\"==* .* ==*\")):\n",
    "    patt = re.compile(\"==* .* ==*\")\n",
    "    lead = re.split(patt, text)[0]\n",
    "    return [(str(t).lower(), t.pos_, t.ent_type_) for t in nlp(lead) if str(t).strip()]\n",
    "\n",
    "def rawlead(text, patt=re.compile(\"==* .* ==*\")):\n",
    "    patt = re.compile(\"==* .* ==*\")\n",
    "    lead = re.split(patt, text)[0]\n",
    "    return lead.strip().replace(\"–\", \"-\")\n",
    "\n",
    "def projection(\n",
    "        s, popular, \n",
    "        numbers=set(\"1234567890\"), \n",
    "        ents={# \"DATE\", \"CARDINAL\", \"ORDINAL\", \"TIME\"\n",
    "              \"ORG\", \"GPE\", \"NORP\", \"FAC\", \"LOC\", \"PRODUCT\", \n",
    "              \"EVENT\", \"LANGUAGE\", \"MONEY\", \"PERCENT\", \"QUANTITY\"}):\n",
    "    w, pos, ent_type = s\n",
    "    if pos == \"NUM\":\n",
    "        return ent_type if ent_type in ents else pos\n",
    "        # return pos\n",
    "    elif not numbers.isdisjoint(w):\n",
    "        return ent_type if ent_type in ents else pos\n",
    "        # return pos\n",
    "    elif (w.lower(), pos) in popular:\n",
    "        return w.lower()\n",
    "    else:\n",
    "        return ent_type if ent_type in ents else pos\n",
    "        # return pos"
   ]
  },
  {
   "cell_type": "code",
   "execution_count": 57,
   "metadata": {},
   "outputs": [
    {
     "name": "stdout",
     "output_type": "stream",
     "text": [
      " 9992573825"
     ]
    }
   ],
   "source": [
    "keys = sorted(page)\n",
    "lead = []\n",
    "for i, k in enumerate(keys):\n",
    "    if len(lead) > i:\n",
    "        continue\n",
    "    lead.append(rawlead(page[k]))\n",
    "    if i % 25 == 0:\n",
    "        print(\"\\r\", i, end=\"\")\n",
    "counts = collections.Counter(i for l in lead for i in l)\n",
    "common = set([chr(i) for i in range(256)])\n",
    "sublead = [\"\".join(i for i in l if i in common) for l in lead]\n",
    "with open(\"nice-char.json\", \"w\") as f:\n",
    "    json.dump(sublead, f)"
   ]
  },
  {
   "cell_type": "code",
   "execution_count": null,
   "metadata": {},
   "outputs": [
    {
     "name": "stdout",
     "output_type": "stream",
     "text": [
      " 71500"
     ]
    }
   ],
   "source": [
    "keys = sorted(page)\n",
    "lead = []\n",
    "for i, k in enumerate(keys):\n",
    "    if len(lead) > i:\n",
    "        continue\n",
    "    lead.append(getlead(page[k]))\n",
    "    if i % 25 == 0:\n",
    "        print(\"\\r\", i, end=\"\")"
   ]
  },
  {
   "cell_type": "code",
   "execution_count": 271,
   "metadata": {},
   "outputs": [],
   "source": [
    "sublead = [p for p in lead if len(p) > MINLEN]\n",
    "counts = collections.Counter((w, pos) for l in sublead for (w, pos, _) in l)\n",
    "popular = set(p for p, c in counts.most_common(6000))\n",
    "cleaned = [[projection(point, popular) for point in p] for p in sublead]"
   ]
  },
  {
   "cell_type": "code",
   "execution_count": 284,
   "metadata": {},
   "outputs": [],
   "source": [
    "words = sorted(set(w for p in cleaned for w in p)) + [\"STOPPER\"]\n",
    "wids = {w:i for i,w in enumerate(words)}"
   ]
  },
  {
   "cell_type": "code",
   "execution_count": 287,
   "metadata": {},
   "outputs": [],
   "source": [
    "tokens = [[wids[w] for w in l]+[wids[\"STOPPER\"]] for l in cleaned]"
   ]
  },
  {
   "cell_type": "code",
   "execution_count": 290,
   "metadata": {},
   "outputs": [],
   "source": [
    "tokens = [t for l in tokens for t in l]"
   ]
  },
  {
   "cell_type": "code",
   "execution_count": 296,
   "metadata": {},
   "outputs": [],
   "source": [
    "sentences = [tokens[i:i+150] for i in range(0, len(tokens)-150, 45)]"
   ]
  },
  {
   "cell_type": "code",
   "execution_count": 309,
   "metadata": {},
   "outputs": [],
   "source": [
    "with open(\"numbers.data\", \"w\") as f:\n",
    "    for s in sentences:\n",
    "        f.write(\" \".join(str(i) for i in s) + \"\\n\")"
   ]
  },
  {
   "cell_type": "code",
   "execution_count": 306,
   "metadata": {},
   "outputs": [],
   "source": [
    "with open(\"word-ids.json\", \"w\") as f:\n",
    "    json.dump(words, f)"
   ]
  },
  {
   "cell_type": "code",
   "execution_count": 308,
   "metadata": {},
   "outputs": [
    {
     "data": {
      "text/plain": [
       "204285"
      ]
     },
     "execution_count": 308,
     "metadata": {},
     "output_type": "execute_result"
    }
   ],
   "source": [
    "len(sentences)"
   ]
  },
  {
   "cell_type": "code",
   "execution_count": 320,
   "metadata": {},
   "outputs": [
    {
     "data": {
      "text/plain": [
       "'STOPPER'"
      ]
     },
     "execution_count": 320,
     "metadata": {},
     "output_type": "execute_result"
    }
   ],
   "source": [
    "words.pop()"
   ]
  },
  {
   "cell_type": "code",
   "execution_count": 332,
   "metadata": {
    "scrolled": true
   },
   "outputs": [
    {
     "data": {
      "text/plain": [
       "['assistance',\n",
       " 'pundit',\n",
       " 'vegas',\n",
       " 'sundance',\n",
       " 'or',\n",
       " 'called',\n",
       " 'carol',\n",
       " 'silent',\n",
       " 'c.',\n",
       " 'alaska',\n",
       " 'liberal',\n",
       " 'craig',\n",
       " 'baker',\n",
       " 'account',\n",
       " 'british',\n",
       " 'she',\n",
       " 'tony',\n",
       " 'rapidly',\n",
       " 'chan',\n",
       " 'n',\n",
       " 'gradually',\n",
       " 'church',\n",
       " 'rose',\n",
       " 'marked',\n",
       " 'channel',\n",
       " 'promoted',\n",
       " 'kenny',\n",
       " 'mughal',\n",
       " 'repertoire',\n",
       " 'november',\n",
       " 'reprised',\n",
       " 'argentine',\n",
       " 'twin',\n",
       " 'january',\n",
       " 'thailand',\n",
       " 'wba',\n",
       " 'welsh',\n",
       " 'average',\n",
       " 'economist',\n",
       " 'machine',\n",
       " 'king',\n",
       " 'cell',\n",
       " 'frequently',\n",
       " 'taken',\n",
       " 'man',\n",
       " 'st',\n",
       " 'threw',\n",
       " 'tamil',\n",
       " 'emmy',\n",
       " 'consider',\n",
       " 'extreme',\n",
       " 'island',\n",
       " 'architect',\n",
       " 'park',\n",
       " 'school',\n",
       " 'prompted',\n",
       " 'newcastle',\n",
       " 'hour',\n",
       " 'bo',\n",
       " 'perhaps',\n",
       " 'champion',\n",
       " 'i',\n",
       " 'reserve',\n",
       " 'brit',\n",
       " 'complications',\n",
       " 'forward',\n",
       " 'curtis',\n",
       " 'landed',\n",
       " 'arrested',\n",
       " 'queens',\n",
       " 'dragon',\n",
       " 'comics',\n",
       " 'charting',\n",
       " 'priest',\n",
       " 'weeks',\n",
       " 'health',\n",
       " 'h.',\n",
       " 'lived',\n",
       " 'meeting',\n",
       " 'admitted',\n",
       " 'san',\n",
       " 'light',\n",
       " 'directly',\n",
       " 'heart',\n",
       " 'petersburg',\n",
       " 'same',\n",
       " 'martin',\n",
       " 'robert',\n",
       " 'bosnia',\n",
       " 'copa',\n",
       " 'pitch',\n",
       " 'buried',\n",
       " 'prominence',\n",
       " 'ricky',\n",
       " 'thus',\n",
       " 'house',\n",
       " 'bowls',\n",
       " 'sentenced',\n",
       " 'festivals',\n",
       " 'tony',\n",
       " 'ocean',\n",
       " 'theatre',\n",
       " 'carl',\n",
       " 'lords',\n",
       " 'dominant',\n",
       " 'selection',\n",
       " 'endorsed',\n",
       " 'junior',\n",
       " 'broad',\n",
       " 'presidents',\n",
       " 'celtic',\n",
       " 'champions',\n",
       " 'arsenal',\n",
       " 'watson',\n",
       " 'rivals',\n",
       " 'historical',\n",
       " 'raja',\n",
       " 'rivera',\n",
       " 'here',\n",
       " 'cape',\n",
       " 'cup',\n",
       " 'profit',\n",
       " 'broad',\n",
       " 'box',\n",
       " 'few',\n",
       " 'notre',\n",
       " 'mate',\n",
       " 'karen',\n",
       " 'morning',\n",
       " 'interviews',\n",
       " 'boston',\n",
       " 'never',\n",
       " 'walter',\n",
       " 'annie',\n",
       " 'taking',\n",
       " 'says',\n",
       " 'concluded',\n",
       " 'respectively',\n",
       " 'pleaded',\n",
       " 'praised',\n",
       " 'thousands',\n",
       " 'programs',\n",
       " 'mughal',\n",
       " 'relatively',\n",
       " 'current',\n",
       " 'graphic',\n",
       " 'derek',\n",
       " 'mariners',\n",
       " 'household',\n",
       " 'guy']"
      ]
     },
     "execution_count": 332,
     "metadata": {},
     "output_type": "execute_result"
    }
   ],
   "source": [
    "data = \"352 3492 4562 4237 3083 661 711 3993 652 185 2531 1089 426 88 604 3961 4414 3560 773 2890 1880 833 3791 2678 780 3451 2388 2866 3669 3003 3685 311 4492 2287 4344 4656 4679 408 1404 2618 2409 748 1772 4289 2647 4118 4382 4298 1462 1014 1581 2252 304 3154 3862 3456 2945 2069 548 3215 769 2096 3694 602 973 1741 1135 2448 328 3513 1350 929 800 3398 4673 1976 1932 2565 2739 134 3835 2541 1287 1978 3230 3833 2690 3761 566 1060 3273 637 3447 3747 4387 2071 574 3919 1647 4414 3026 4349 708 2584 1335 3906 1474 2360 605 3385 749 770 330 4651 3756 2023 3541 3758 2000 689 1131 3436 605 575 1648 2997 2705 2374 2840 2217 568 2942 4634 268 4291 3852 987 3705 3301 3368 4379 3441 2866 3643 1133 1894 1236 2675 2072 1930\"\n",
    "\n",
    "[words[int(i)] for i in data.split(\" \")]"
   ]
  },
  {
   "cell_type": "code",
   "execution_count": 326,
   "metadata": {},
   "outputs": [
    {
     "data": {
      "text/plain": [
       "4814"
      ]
     },
     "execution_count": 326,
     "metadata": {},
     "output_type": "execute_result"
    }
   ],
   "source": [
    "len(words)"
   ]
  },
  {
   "cell_type": "code",
   "execution_count": null,
   "metadata": {},
   "outputs": [],
   "source": []
  }
 ],
 "metadata": {
  "kernelspec": {
   "display_name": "Python 3",
   "language": "python",
   "name": "python3"
  },
  "language_info": {
   "codemirror_mode": {
    "name": "ipython",
    "version": 3
   },
   "file_extension": ".py",
   "mimetype": "text/x-python",
   "name": "python",
   "nbconvert_exporter": "python",
   "pygments_lexer": "ipython3",
   "version": "3.7.3"
  }
 },
 "nbformat": 4,
 "nbformat_minor": 2
}
