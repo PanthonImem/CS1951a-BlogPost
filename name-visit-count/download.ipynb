{
 "cells": [
  {
   "cell_type": "code",
   "execution_count": 1,
   "metadata": {},
   "outputs": [],
   "source": [
    "import json\n",
    "import collections\n",
    "import requests\n",
    "import urllib.parse\n",
    "import re\n",
    "\n",
    "import threading\n",
    "import functools\n",
    "def threadify(func):\n",
    "    \"function runs in a new thread.\"\n",
    "\n",
    "    @functools.wraps(func)\n",
    "    def run(*args, **kwds):\n",
    "        new_thread = threading.Thread(\n",
    "            target = func,\n",
    "            args   = args,\n",
    "            kwargs = kwds)\n",
    "        new_thread.start()\n",
    "        return new_thread\n",
    "\n",
    "    return run\n",
    "\n"
   ]
  },
  {
   "cell_type": "code",
   "execution_count": 2,
   "metadata": {},
   "outputs": [],
   "source": [
    "with open(\"name-visit-count-all.json\") as f:\n",
    "    data = json.load(f)"
   ]
  },
  {
   "cell_type": "code",
   "execution_count": 3,
   "metadata": {},
   "outputs": [],
   "source": [
    "data = collections.Counter({k:v for k,v in data.items() if v is not None})"
   ]
  },
  {
   "cell_type": "code",
   "execution_count": 4,
   "metadata": {},
   "outputs": [],
   "source": [
    "popular = data.most_common(100000)"
   ]
  },
  {
   "cell_type": "code",
   "execution_count": 5,
   "metadata": {},
   "outputs": [],
   "source": [
    "def load(link):\n",
    "    title = (urllib.parse.unquote(link)\n",
    "        .replace(\"/wiki/\", \"\")\n",
    "        .replace(\"_\", \" \"))\n",
    "    endpoint = \"https://en.wikipedia.org/w/api.php\"\n",
    "    params   = {\n",
    "        \"action\"      : \"query\",\n",
    "        \"prop\"        : \"categories|extracts\",\n",
    "        \"titles\"      : title,\n",
    "        \"explaintext\" : \"true\",\n",
    "        \"format\"      : \"json\",\n",
    "        \"cllimit\"     : \"5000\"\n",
    "    }\n",
    "    resp = requests.get(endpoint, params=params)\n",
    "    pages   = resp.json()[\"query\"][\"pages\"]\n",
    "    extract = pages[next(iter(pages))][\"extract\"]\n",
    "    # header  = re.split(\"==* .* ==*\", extract)[0]\n",
    "    return extract\n",
    "\n",
    "def loader(link, headers):\n",
    "    counter = 0\n",
    "    for i in range(20):\n",
    "        try:\n",
    "            headers[link] = load(link)\n",
    "            break\n",
    "        except:\n",
    "            pass\n",
    "    else:\n",
    "        print(\"FAILED\", link)\n",
    "                \n",
    "@threadify\n",
    "def threaded_loader(links, headers):\n",
    "    while links:\n",
    "        link = links.pop()\n",
    "        loader(link, headers)\n"
   ]
  },
  {
   "cell_type": "code",
   "execution_count": 6,
   "metadata": {},
   "outputs": [],
   "source": [
    "links = list(next(zip(*popular)))\n",
    "headers = {}\n",
    "threads = []\n",
    "for i in range(20):\n",
    "    t = threaded_loader(links, headers)\n",
    "    threads.append(t)"
   ]
  },
  {
   "cell_type": "code",
   "execution_count": 24,
   "metadata": {},
   "outputs": [],
   "source": [
    "with open(\"headers-100000.json\", \"w\") as f:\n",
    "    json.dump(headers, f)"
   ]
  },
  {
   "cell_type": "code",
   "execution_count": null,
   "metadata": {},
   "outputs": [],
   "source": []
  }
 ],
 "metadata": {
  "kernelspec": {
   "display_name": "Python 3",
   "language": "python",
   "name": "python3"
  },
  "language_info": {
   "codemirror_mode": {
    "name": "ipython",
    "version": 3
   },
   "file_extension": ".py",
   "mimetype": "text/x-python",
   "name": "python",
   "nbconvert_exporter": "python",
   "pygments_lexer": "ipython3",
   "version": "3.7.3"
  }
 },
 "nbformat": 4,
 "nbformat_minor": 2
}
