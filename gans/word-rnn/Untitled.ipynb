{
 "cells": [
  {
   "cell_type": "code",
   "execution_count": 8,
   "metadata": {},
   "outputs": [
    {
     "data": {
      "text/plain": [
       "'STOPPER'"
      ]
     },
     "execution_count": 8,
     "metadata": {},
     "output_type": "execute_result"
    }
   ],
   "source": [
    "words[-1]"
   ]
  },
  {
   "cell_type": "code",
   "execution_count": 10,
   "metadata": {},
   "outputs": [],
   "source": [
    "import json\n",
    "import random\n",
    "\n",
    "import numpy as np\n",
    "import numpy.random as rd\n",
    "\n",
    "import torch\n",
    "import torch.nn as nn\n",
    "import torch.optim as optim\n",
    "\n",
    "DEVICE = torch.device(\"cuda:0\" if torch.cuda.is_available() else \"cpu\")\n",
    "\n",
    "def stream(data, window=128, mix=10000):\n",
    "    while True:\n",
    "        random.shuffle(leads)\n",
    "        test = [c for lead in data for c in lead]\n",
    "        for _ in range(mix):\n",
    "            i = random.randint(0, len(test)-window-1)\n",
    "            yield test[i:i+window], test[i+1:i+1+window]\n",
    "\n",
    "def sample(net, words, length=50, power=2.0, starter=None):\n",
    "    characters = []\n",
    "    exponent = 3\n",
    "    inp = torch.tensor([[len(words) - 1]]).to(DEVICE)\n",
    "    h   = net.create_hidden(1)\n",
    "    for i in range(length):\n",
    "        # exponent = min(exponent+power/100, power)\n",
    "        inp, h = net(inp, h)\n",
    "        p = inp.exp() / inp.exp().sum()\n",
    "        p = (p ** exponent) / (p ** exponent).sum()\n",
    "        p = p[0]\n",
    "        inp    = rd.choice(len(words), p=p.cpu().detach().numpy())\n",
    "        characters.append(words[inp])\n",
    "        inp    = torch.tensor([[inp]]).to(DEVICE)\n",
    "    return \" \".join(characters)\n",
    "\n",
    "\n",
    "\n",
    "class LSTM(nn.Module):\n",
    "\n",
    "    def __init__(self, input_size, hidden_size, output_size, n_layers=2, dropout=0.5):\n",
    "        super(LSTM, self).__init__()\n",
    "        self.input_size = input_size\n",
    "        self.hidden_size = hidden_size\n",
    "        self.output_size = output_size\n",
    "        self.n_layers = n_layers\n",
    "\n",
    "        self.encoder = nn.Embedding(input_size, hidden_size)\n",
    "        self.cells   = nn.LSTM(hidden_size, hidden_size, n_layers, dropout=dropout)\n",
    "        self.decoder = nn.Linear(hidden_size, output_size,)\n",
    "\n",
    "    def forward(self, inp, hidden):\n",
    "        inp = self.encoder(inp)\n",
    "        output, hidden = self.cells(inp, hidden)\n",
    "        output = self.decoder(output.view(output.size(0) * output.size(1), output.size(2)))\n",
    "        return output, hidden\n",
    "\n",
    "    def create_hidden(self, batch_size):\n",
    "        zero = lambda: torch.zeros(self.n_layers, batch_size, self.hidden_size)\n",
    "        return [zero().to(DEVICE) for i in range(self.n_layers)]\n"
   ]
  },
  {
   "cell_type": "code",
   "execution_count": 11,
   "metadata": {},
   "outputs": [],
   "source": [
    "\n",
    "with open(\"numbers.txt\") as f:\n",
    "    leads = [[int(i) for i in line.split()] for line in f]\n",
    "\n",
    "with open(\"word-ids.json\") as f:\n",
    "    words = json.load(f)\n"
   ]
  },
  {
   "cell_type": "code",
   "execution_count": 12,
   "metadata": {},
   "outputs": [
    {
     "name": "stdout",
     "output_type": "stream",
     "text": [
      "device         : cpu\n",
      "num characters : 4814\n"
     ]
    }
   ],
   "source": [
    "# ------ \n",
    "window   = 200\n",
    "iterator = stream(leads, window)\n",
    "net    = LSTM(len(words), 512, len(words)).to(DEVICE)\n",
    "# net    = (torch.load(\"net-weights.model\")\n",
    "#         if torch.cuda.is_available()\n",
    "#         else torch.load(\"net-weights.model\", map_location=\"cpu\")).to(DEVICE)\n",
    "loss   = nn.CrossEntropyLoss(reduction=\"none\")\n",
    "opt    = optim.Adam(net.parameters())\n",
    "hid    = net.create_hidden(1)\n",
    "wloss  = torch.tensor(np.linspace(0, 1, window, dtype=np.float32)**0.2).to(DEVICE)\n",
    "wloss /= wloss.sum()\n",
    "print(\"device         :\", DEVICE)\n",
    "print(\"num characters :\", len(words))\n"
   ]
  },
  {
   "cell_type": "code",
   "execution_count": 14,
   "metadata": {},
   "outputs": [
    {
     "name": "stdout",
     "output_type": "stream",
     "text": [
      "0 7.14\n",
      "tna hold vision structure culture counts twins burton odi strategic once wisconsin record crystal whole NUM sheikh nationally stanford sheffield , , francisco , , , , , , , , , , , , , , , a , PROPN , , , , , , , , , , , , , , , , , , , , , , , , , , , , , , , , , , , , , , , , , , , , PROPN , PROPN , , , , , , , , , , , , , , , , , , , , , , , , , , , PROPN , , , ,\n",
      "---------\n",
      "50 5.42\n",
      "in ) . , NUM , , . , . , NUM , NUM . , , , the NOUN the . PROPN and . NUM NUM the , PROPN NUM , NUM a the the the , NUM , . , and in the NUM , , and and to . the , NUM NUM ORG , and the in NUM , in the PROPN . NUM , , . in and NOUN . in , . NUM , . PROPN . . ORG of NUM . NUM PROPN , NUM , , in , NUM , , NUM , , , NUM , the in , PROPN , NUM . . , , NUM NUM , to ,\n",
      "---------\n"
     ]
    },
    {
     "ename": "KeyboardInterrupt",
     "evalue": "",
     "output_type": "error",
     "traceback": [
      "\u001b[0;31m---------------------------------------------------------------------------\u001b[0m",
      "\u001b[0;31mKeyboardInterrupt\u001b[0m                         Traceback (most recent call last)",
      "\u001b[0;32m<ipython-input-14-d9876e81c38f>\u001b[0m in \u001b[0;36m<module>\u001b[0;34m\u001b[0m\n\u001b[1;32m      6\u001b[0m     \u001b[0mout\u001b[0m\u001b[0;34m,\u001b[0m \u001b[0m_\u001b[0m \u001b[0;34m=\u001b[0m \u001b[0mnet\u001b[0m\u001b[0;34m(\u001b[0m\u001b[0minp\u001b[0m\u001b[0;34m,\u001b[0m \u001b[0mhid\u001b[0m\u001b[0;34m)\u001b[0m\u001b[0;34m\u001b[0m\u001b[0;34m\u001b[0m\u001b[0m\n\u001b[1;32m      7\u001b[0m     \u001b[0mcost\u001b[0m \u001b[0;34m=\u001b[0m \u001b[0mloss\u001b[0m\u001b[0;34m(\u001b[0m\u001b[0mout\u001b[0m\u001b[0;34m,\u001b[0m \u001b[0mtar\u001b[0m\u001b[0;34m)\u001b[0m\u001b[0;34m.\u001b[0m\u001b[0mdot\u001b[0m\u001b[0;34m(\u001b[0m\u001b[0mwloss\u001b[0m\u001b[0;34m)\u001b[0m\u001b[0;34m\u001b[0m\u001b[0;34m\u001b[0m\u001b[0m\n\u001b[0;32m----> 8\u001b[0;31m     \u001b[0mcost\u001b[0m\u001b[0;34m.\u001b[0m\u001b[0mbackward\u001b[0m\u001b[0;34m(\u001b[0m\u001b[0;34m)\u001b[0m\u001b[0;34m\u001b[0m\u001b[0;34m\u001b[0m\u001b[0m\n\u001b[0m\u001b[1;32m      9\u001b[0m     \u001b[0mopt\u001b[0m\u001b[0;34m.\u001b[0m\u001b[0mstep\u001b[0m\u001b[0;34m(\u001b[0m\u001b[0;34m)\u001b[0m\u001b[0;34m\u001b[0m\u001b[0;34m\u001b[0m\u001b[0m\n\u001b[1;32m     10\u001b[0m     \u001b[0;32mif\u001b[0m \u001b[0mi\u001b[0m \u001b[0;34m%\u001b[0m \u001b[0;36m50\u001b[0m \u001b[0;34m==\u001b[0m \u001b[0;36m0\u001b[0m\u001b[0;34m:\u001b[0m\u001b[0;34m\u001b[0m\u001b[0;34m\u001b[0m\u001b[0m\n",
      "\u001b[0;32m~/learn/lib/python3.7/site-packages/torch/tensor.py\u001b[0m in \u001b[0;36mbackward\u001b[0;34m(self, gradient, retain_graph, create_graph)\u001b[0m\n\u001b[1;32m    100\u001b[0m                 \u001b[0mproducts\u001b[0m\u001b[0;34m.\u001b[0m \u001b[0mDefaults\u001b[0m \u001b[0mto\u001b[0m\u001b[0;31m \u001b[0m\u001b[0;31m`\u001b[0m\u001b[0;31m`\u001b[0m\u001b[0;32mFalse\u001b[0m\u001b[0;31m`\u001b[0m\u001b[0;31m`\u001b[0m\u001b[0;34m.\u001b[0m\u001b[0;34m\u001b[0m\u001b[0;34m\u001b[0m\u001b[0m\n\u001b[1;32m    101\u001b[0m         \"\"\"\n\u001b[0;32m--> 102\u001b[0;31m         \u001b[0mtorch\u001b[0m\u001b[0;34m.\u001b[0m\u001b[0mautograd\u001b[0m\u001b[0;34m.\u001b[0m\u001b[0mbackward\u001b[0m\u001b[0;34m(\u001b[0m\u001b[0mself\u001b[0m\u001b[0;34m,\u001b[0m \u001b[0mgradient\u001b[0m\u001b[0;34m,\u001b[0m \u001b[0mretain_graph\u001b[0m\u001b[0;34m,\u001b[0m \u001b[0mcreate_graph\u001b[0m\u001b[0;34m)\u001b[0m\u001b[0;34m\u001b[0m\u001b[0;34m\u001b[0m\u001b[0m\n\u001b[0m\u001b[1;32m    103\u001b[0m \u001b[0;34m\u001b[0m\u001b[0m\n\u001b[1;32m    104\u001b[0m     \u001b[0;32mdef\u001b[0m \u001b[0mregister_hook\u001b[0m\u001b[0;34m(\u001b[0m\u001b[0mself\u001b[0m\u001b[0;34m,\u001b[0m \u001b[0mhook\u001b[0m\u001b[0;34m)\u001b[0m\u001b[0;34m:\u001b[0m\u001b[0;34m\u001b[0m\u001b[0;34m\u001b[0m\u001b[0m\n",
      "\u001b[0;32m~/learn/lib/python3.7/site-packages/torch/autograd/__init__.py\u001b[0m in \u001b[0;36mbackward\u001b[0;34m(tensors, grad_tensors, retain_graph, create_graph, grad_variables)\u001b[0m\n\u001b[1;32m     88\u001b[0m     Variable._execution_engine.run_backward(\n\u001b[1;32m     89\u001b[0m         \u001b[0mtensors\u001b[0m\u001b[0;34m,\u001b[0m \u001b[0mgrad_tensors\u001b[0m\u001b[0;34m,\u001b[0m \u001b[0mretain_graph\u001b[0m\u001b[0;34m,\u001b[0m \u001b[0mcreate_graph\u001b[0m\u001b[0;34m,\u001b[0m\u001b[0;34m\u001b[0m\u001b[0;34m\u001b[0m\u001b[0m\n\u001b[0;32m---> 90\u001b[0;31m         allow_unreachable=True)  # allow_unreachable flag\n\u001b[0m\u001b[1;32m     91\u001b[0m \u001b[0;34m\u001b[0m\u001b[0m\n\u001b[1;32m     92\u001b[0m \u001b[0;34m\u001b[0m\u001b[0m\n",
      "\u001b[0;31mKeyboardInterrupt\u001b[0m: "
     ]
    }
   ],
   "source": [
    "for i in range(10000):\n",
    "    inp, tar = next(iterator)\n",
    "    inp = torch.tensor([[i] for i in inp]).to(DEVICE)\n",
    "    tar = torch.tensor(tar).to(DEVICE)\n",
    "    opt.zero_grad()\n",
    "    out, _ = net(inp, hid)\n",
    "    cost = loss(out, tar).dot(wloss)\n",
    "    cost.backward()\n",
    "    opt.step()\n",
    "    if i % 50 == 0:\n",
    "        print(\"%d %.2f\" %(i, float(cost)))\n",
    "        print(sample(net, words, 120))\n",
    "        print(\"---------\") \n",
    "    if (i+1) % 500 == 0:\n",
    "        torch.save(net, \"net-weights.model\")\n",
    "# for i in range(100):\n",
    "#     print(sample(net, words, 2000))\n",
    "#     print(\"------\")"
   ]
  },
  {
   "cell_type": "code",
   "execution_count": null,
   "metadata": {},
   "outputs": [],
   "source": []
  }
 ],
 "metadata": {
  "kernelspec": {
   "display_name": "Python 3",
   "language": "python",
   "name": "python3"
  },
  "language_info": {
   "codemirror_mode": {
    "name": "ipython",
    "version": 3
   },
   "file_extension": ".py",
   "mimetype": "text/x-python",
   "name": "python",
   "nbconvert_exporter": "python",
   "pygments_lexer": "ipython3",
   "version": "3.7.3"
  }
 },
 "nbformat": 4,
 "nbformat_minor": 2
}
