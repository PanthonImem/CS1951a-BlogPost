{
 "cells": [
  {
   "cell_type": "code",
   "execution_count": 1,
   "metadata": {},
   "outputs": [],
   "source": [
    "import json\n",
    "import random\n",
    "import numpy as np\n",
    "import numpy.random as rd\n",
    "import torch\n",
    "import itertools\n",
    "import torch.nn as nn\n",
    "import torch.optim as optim\n"
   ]
  },
  {
   "cell_type": "code",
   "execution_count": 2,
   "metadata": {},
   "outputs": [
    {
     "name": "stdout",
     "output_type": "stream",
     "text": [
      "179\n"
     ]
    }
   ],
   "source": [
    "with open(\"nice-char.json\") as f:\n",
    "    data = json.load(f)\n",
    "\n",
    "chars = sorted(set(c for lead in data for c in lead)) + [\" STOP \"]\n",
    "chids = {c:i for i,c in enumerate(chars)} \n",
    "leads = [[chids[c] for c in lead]+[chids[\" STOP \"]] for lead in data]\n",
    "print(len(chars))"
   ]
  },
  {
   "cell_type": "code",
   "execution_count": 3,
   "metadata": {},
   "outputs": [],
   "source": [
    "def stream(data, window=128, mix=100000):\n",
    "    while True:\n",
    "        random.shuffle(leads)\n",
    "        test = [c for lead in data for c in lead]\n",
    "        for _ in range(mix):\n",
    "            i = random.randint(0, len(test)-window-1)\n",
    "            yield test[i:i+window], test[i+1:i+1+window]\n",
    "iterator = stream(leads)"
   ]
  },
  {
   "cell_type": "code",
   "execution_count": 12,
   "metadata": {},
   "outputs": [],
   "source": [
    "def sample(net, chars, length=50, power=1.5):\n",
    "    characters = []\n",
    "    inp = torch.tensor([[chids[\" STOP \"]]])\n",
    "    h   = net.create_hidden(1)\n",
    "    for i in range(length):\n",
    "        inp, h = net(inp, h)\n",
    "        p = inp.exp() / inp.exp().sum()\n",
    "        p = (p ** power) / (p ** power).sum()\n",
    "        p = p[0]\n",
    "        inp    = rd.choice(len(chars), p=p.detach().numpy())\n",
    "        characters.append(chars[inp])\n",
    "        inp    = torch.tensor([[inp]])\n",
    "    return \"\".join(characters)"
   ]
  },
  {
   "cell_type": "code",
   "execution_count": 5,
   "metadata": {},
   "outputs": [],
   "source": [
    "window   = 500\n",
    "iterator = stream(leads, window)"
   ]
  },
  {
   "cell_type": "code",
   "execution_count": 6,
   "metadata": {},
   "outputs": [],
   "source": [
    "class LSTM(nn.Module):\n",
    "\n",
    "    def __init__(self, input_size, hidden_size, output_size, n_layers=2, dropout=0.5):\n",
    "        super(LSTM, self).__init__()\n",
    "        self.input_size = input_size\n",
    "        self.hidden_size = hidden_size\n",
    "        self.output_size = output_size\n",
    "        self.n_layers = n_layers\n",
    "\n",
    "        self.encoder = nn.Embedding(input_size, hidden_size)\n",
    "        self.cells   = nn.LSTM(hidden_size, hidden_size, n_layers, dropout=dropout)\n",
    "        self.decoder = nn.Linear(hidden_size, output_size,)\n",
    "\n",
    "    def forward(self, inp, hidden):\n",
    "        inp = self.encoder(inp)\n",
    "        output, hidden = self.cells(inp, hidden)\n",
    "        output = self.decoder(output.view(output.size(0) * output.size(1), output.size(2)))\n",
    "        return output, hidden\n",
    "\n",
    "    def create_hidden(self, batch_size):\n",
    "        zero = lambda: torch.zeros(self.n_layers, batch_size, self.hidden_size)\n",
    "        return [zero() for i in range(self.n_layers)]"
   ]
  },
  {
   "cell_type": "code",
   "execution_count": 7,
   "metadata": {},
   "outputs": [],
   "source": [
    "net = LSTM(len(chars), 512, len(chars))\n",
    "loss = nn.CrossEntropyLoss(reduction=\"none\")"
   ]
  },
  {
   "cell_type": "code",
   "execution_count": 8,
   "metadata": {},
   "outputs": [],
   "source": [
    "optimizer = optim.Adam(net.parameters())\n",
    "hid = net.create_hidden(1)"
   ]
  },
  {
   "cell_type": "code",
   "execution_count": 10,
   "metadata": {},
   "outputs": [],
   "source": [
    "loss_weights = torch.tensor(np.linspace(0, 1, window, dtype=np.float32)**0.5)\n",
    "loss_weights /= loss_weights.sum()"
   ]
  },
  {
   "cell_type": "code",
   "execution_count": null,
   "metadata": {},
   "outputs": [
    {
     "name": "stdout",
     "output_type": "stream",
     "text": [
      " 170 2.26 worn and lisel soure poreate tiount an 108 W016 the fres rester is thee decand te the"
     ]
    }
   ],
   "source": [
    "for i in range(10000):\n",
    "    inp, tar = next(iterator)\n",
    "    inp = torch.tensor([[i] for i in inp])\n",
    "    tar = torch.tensor(tar)\n",
    "\n",
    "    optimizer.zero_grad()\n",
    "    out, _ = net(inp, hid)\n",
    "    cost = loss(out, tar).dot(loss_weights)\n",
    "    cost.backward()\n",
    "    optimizer.step()\n",
    "    i % 10 or print(\"\\r %d %.2f\" %(i, float(cost)), sample(net, chars, 80), end=\"\") \n"
   ]
  },
  {
   "cell_type": "code",
   "execution_count": null,
   "metadata": {},
   "outputs": [],
   "source": [
    "torch.save(net, \"net-weights.model\")"
   ]
  }
 ],
 "metadata": {
  "kernelspec": {
   "display_name": "Python 3",
   "language": "python",
   "name": "python3"
  },
  "language_info": {
   "codemirror_mode": {
    "name": "ipython",
    "version": 3
   },
   "file_extension": ".py",
   "mimetype": "text/x-python",
   "name": "python",
   "nbconvert_exporter": "python",
   "pygments_lexer": "ipython3",
   "version": "3.7.3"
  }
 },
 "nbformat": 4,
 "nbformat_minor": 2
}
