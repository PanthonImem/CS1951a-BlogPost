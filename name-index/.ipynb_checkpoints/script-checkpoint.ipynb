{
 "cells": [
  {
   "cell_type": "code",
   "execution_count": 0,
   "metadata": {
    "colab": {},
    "colab_type": "code",
    "id": "j180BsxQmWVm"
   },
   "outputs": [],
   "source": [
    "import threading\n",
    "import functools\n",
    "import string\n",
    "\n",
    "import requests\n",
    "import json\n",
    "import bs4"
   ]
  },
  {
   "cell_type": "code",
   "execution_count": 0,
   "metadata": {
    "colab": {},
    "colab_type": "code",
    "id": "mdfpDW2JmWVp"
   },
   "outputs": [],
   "source": [
    "def threadify(func):\n",
    "    \"function runs in a new thread.\"\n",
    "\n",
    "    @functools.wraps(func)\n",
    "    def run(*args, **kwds):\n",
    "        new_thread = threading.Thread(\n",
    "            target = func,\n",
    "            args   = args,\n",
    "            kwargs = kwds)\n",
    "        new_thread.start()\n",
    "        return new_thread\n",
    "\n",
    "    return run"
   ]
  },
  {
   "cell_type": "code",
   "execution_count": 0,
   "metadata": {
    "colab": {},
    "colab_type": "code",
    "id": "zsfTNd-rmWVr"
   },
   "outputs": [],
   "source": [
    "def get_names(url):\n",
    "    resp = requests.get(url)\n",
    "    if resp.status_code != 200:\n",
    "        print(\"Error:\", resp.text)\n",
    "        return [], url # try again!\n",
    "    soup = bs4.BeautifulSoup(resp.text, 'html.parser')\n",
    "    page = soup.find_all(class_=\"mw-category-group\")\n",
    "    data = [(i.text, i[\"href\"]) for e in page for i in e.find_all(\"a\")]\n",
    "    next_url = soup.find(\"a\", text=\"next page\")\n",
    "    return data, next_url['href'] if next_url else None"
   ]
  },
  {
   "cell_type": "code",
   "execution_count": 0,
   "metadata": {
    "colab": {},
    "colab_type": "code",
    "id": "dcTgwaW_mWVt"
   },
   "outputs": [],
   "source": [
    "@threadify\n",
    "def collect(url, collector):\n",
    "    out = []\n",
    "    try:\n",
    "        while url:\n",
    "            out, url = get_names('https://en.wikipedia.org' + url)\n",
    "            if out[0] in collector:\n",
    "                break\n",
    "            collector.update(out)\n",
    "        print(\"breakpoint reached!\")\n",
    "    except:\n",
    "        # if there's an error just collect(url, collector)\n",
    "        # again once there's space for another thread\n",
    "        print(\"error when collecting:\", url)"
   ]
  },
  {
   "cell_type": "code",
   "execution_count": 0,
   "metadata": {
    "colab": {},
    "colab_type": "code",
    "id": "pCDoDcXrmWVv"
   },
   "outputs": [],
   "source": [
    "LIVING_PEOPLE_MAIN_PAGE = \"/wiki/Category:Living_people\"\n",
    "results = set()\n",
    "pages = [LIVING_PEOPLE_MAIN_PAGE]\n",
    "for c in string.ascii_uppercase:\n",
    "    pages.append(f\"/wiki/Category:Living_people?from={c}\")"
   ]
  },
  {
   "cell_type": "code",
   "execution_count": 0,
   "metadata": {
    "colab": {},
    "colab_type": "code",
    "id": "puq1p0IJmWVw"
   },
   "outputs": [],
   "source": [
    "threads = []\n",
    "for p in pages:    \n",
    "    threads.append(collect(p, results))"
   ]
  },
  {
   "cell_type": "code",
   "execution_count": 0,
   "metadata": {
    "colab": {},
    "colab_type": "code",
    "id": "7GDoUTRbmWVy"
   },
   "outputs": [],
   "source": [
    "import time\n",
    "for i in range(500):\n",
    "    print(\"\\r\", i, len(results), end=\" \")\n",
    "    time.sleep(0.5)"
   ]
  },
  {
   "cell_type": "code",
   "execution_count": 0,
   "metadata": {
    "colab": {},
    "colab_type": "code",
    "id": "BZ1PqrIVmWVz"
   },
   "outputs": [],
   "source": [
    "with open(\"names.json\", \"w\") as f:\n",
    "    json.dump(sorted(results), f)"
   ]
  },
  {
   "cell_type": "code",
   "execution_count": 0,
   "metadata": {
    "colab": {},
    "colab_type": "code",
    "id": "m61n0XIJmWV1"
   },
   "outputs": [],
   "source": [
    "import os"
   ]
  },
  {
   "cell_type": "code",
   "execution_count": 0,
   "metadata": {
    "colab": {},
    "colab_type": "code",
    "id": "xhAkDBj6dWZ0"
   },
   "outputs": [],
   "source": []
  },
  {
   "cell_type": "code",
   "execution_count": 0,
   "metadata": {
    "colab": {},
    "colab_type": "code",
    "id": "TJHb2LLYdYyv"
   },
   "outputs": [],
   "source": []
  }
 ],
 "metadata": {
  "colab": {
   "collapsed_sections": [],
   "name": "script.ipynb",
   "provenance": [],
   "version": "0.3.2"
  },
  "kernelspec": {
   "display_name": "Python 3",
   "language": "python",
   "name": "python3"
  },
  "language_info": {
   "codemirror_mode": {
    "name": "ipython",
    "version": 3
   },
   "file_extension": ".py",
   "mimetype": "text/x-python",
   "name": "python",
   "nbconvert_exporter": "python",
   "pygments_lexer": "ipython3",
   "version": "3.7.3"
  }
 },
 "nbformat": 4,
 "nbformat_minor": 1
}
